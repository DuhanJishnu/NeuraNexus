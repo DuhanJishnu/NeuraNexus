{
 "cells": [
  {
   "cell_type": "code",
   "execution_count": 1,
   "id": "1a3d902a-c1e6-4284-b0c5-f02712d659f9",
   "metadata": {},
   "outputs": [
    {
     "name": "stdout",
     "output_type": "stream",
     "text": [
      "C:\\Users\\rhyth\\anaconda3\\python.exe\n",
      "Requirement already satisfied: pdf2image in c:\\users\\rhyth\\anaconda3\\lib\\site-packages (1.17.0)\n",
      "Requirement already satisfied: pillow in c:\\users\\rhyth\\anaconda3\\lib\\site-packages (10.2.0)\n",
      "Requirement already satisfied: pytesseract in c:\\users\\rhyth\\anaconda3\\lib\\site-packages (0.3.13)\n",
      "Requirement already satisfied: packaging>=21.3 in c:\\users\\rhyth\\anaconda3\\lib\\site-packages (from pytesseract) (25.0)\n"
     ]
    },
    {
     "name": "stderr",
     "output_type": "stream",
     "text": [
      "\n",
      "[notice] A new release of pip is available: 25.1.1 -> 25.2\n",
      "[notice] To update, run: C:\\Users\\rhyth\\anaconda3\\python.exe -m pip install --upgrade pip\n"
     ]
    }
   ],
   "source": [
    "import sys\n",
    "print(sys.executable)\n",
    "\n",
    "!{sys.executable} -m pip install pdf2image pillow pytesseract\n"
   ]
  },
  {
   "cell_type": "code",
   "execution_count": 25,
   "id": "945245ce-5fe5-4153-abc7-f9c490cfe471",
   "metadata": {},
   "outputs": [],
   "source": [
    "import os\n",
    "from pdf2image import convert_from_path\n",
    "from PIL import Image\n",
    "import pytesseract\n",
    "import pandas as pd"
   ]
  },
  {
   "cell_type": "code",
   "execution_count": 27,
   "id": "2bcfbfd3-76f6-4e1a-9021-e156c9d8b763",
   "metadata": {},
   "outputs": [],
   "source": [
    "pdf_folder = './pdfs'     \n",
    "image_folder = './images'   \n",
    "ocr_folder = './ocr_texts'  \n",
    "poppler_bin = r'C:\\Program Files (x86)\\poppler-25.07.0\\Library\\bin'\n",
    "os.makedirs(image_folder, exist_ok=True)\n",
    "os.makedirs(ocr_folder, exist_ok=True)"
   ]
  },
  {
   "cell_type": "code",
   "execution_count": 29,
   "id": "5a39b2bd-6870-4d7b-a61d-771721e657d0",
   "metadata": {},
   "outputs": [],
   "source": [
    "pytesseract.pytesseract.tesseract_cmd = r\"C:\\Program Files\\Tesseract-OCR\\tesseract.exe\"\n"
   ]
  },
  {
   "cell_type": "code",
   "execution_count": 35,
   "id": "063c8b5b-2dbd-4f5d-aade-3308745ccd1c",
   "metadata": {},
   "outputs": [
    {
     "data": {
      "text/plain": [
       "['NIT MEGHALAYA AR 2016-17 ENGLISH.pdf',\n",
       " 'NIT Meghalaya AR 2022-23_28022024(1).pdf',\n",
       " 'NIT MEGHALAYA_ANNUAL REPORT & ACCOUNTS 2017-18_ENGLISH.pdf',\n",
       " 'NIT Meghalaya_Annual Report and Audited Annual Accounts 2019-20_English.pdf',\n",
       " 'NITM_AR 2021-22_English.pdf',\n",
       " 'NIT_Meghalaya_AR_English.pdf']"
      ]
     },
     "execution_count": 35,
     "metadata": {},
     "output_type": "execute_result"
    }
   ],
   "source": [
    "os.listdir(pdf_folder)"
   ]
  },
  {
   "cell_type": "code",
   "execution_count": 37,
   "id": "aedbb3ab-8ca5-48cd-96b2-3aea233f06f5",
   "metadata": {},
   "outputs": [],
   "source": [
    "csv_rows = []"
   ]
  },
  {
   "cell_type": "code",
   "execution_count": null,
   "id": "b9c6e68a-08cd-4a51-9578-8f3e6e84050e",
   "metadata": {},
   "outputs": [
    {
     "name": "stdout",
     "output_type": "stream",
     "text": [
      "Processing NIT MEGHALAYA AR 2016-17 ENGLISH.pdf...\n",
      "Finished NIT MEGHALAYA AR 2016-17 ENGLISH.pdf. 116 pages processed.\n",
      "\n",
      "Processing NIT Meghalaya AR 2022-23_28022024(1).pdf...\n",
      "Finished NIT Meghalaya AR 2022-23_28022024(1).pdf. 214 pages processed.\n",
      "\n",
      "Processing NIT MEGHALAYA_ANNUAL REPORT & ACCOUNTS 2017-18_ENGLISH.pdf...\n",
      "Finished NIT MEGHALAYA_ANNUAL REPORT & ACCOUNTS 2017-18_ENGLISH.pdf. 128 pages processed.\n",
      "\n",
      "Processing NIT Meghalaya_Annual Report and Audited Annual Accounts 2019-20_English.pdf...\n",
      "Finished NIT Meghalaya_Annual Report and Audited Annual Accounts 2019-20_English.pdf. 178 pages processed.\n",
      "\n",
      "Processing NITM_AR 2021-22_English.pdf...\n"
     ]
    },
    {
     "name": "stderr",
     "output_type": "stream",
     "text": [
      "Exception in thread Thread-1327 (_readerthread):\n",
      "Traceback (most recent call last):\n",
      "  File \"C:\\Users\\rhyth\\anaconda3\\Lib\\threading.py\", line 1045, in _bootstrap_inner\n",
      "    self.run()\n",
      "  File \"C:\\Users\\rhyth\\anaconda3\\Lib\\threading.py\", line 982, in run\n",
      "    self._target(*self._args, **self._kwargs)\n",
      "  File \"C:\\Users\\rhyth\\anaconda3\\Lib\\subprocess.py\", line 1597, in _readerthread\n",
      "    buffer.append(fh.read())\n",
      "                  ^^^^^^^^^\n",
      "MemoryError\n"
     ]
    }
   ],
   "source": [
    "for pdf_file in os.listdir(pdf_folder):\n",
    "    if pdf_file.lower().endswith('.pdf'):\n",
    "        pdf_path = os.path.join(pdf_folder, pdf_file)\n",
    "        print(f\"Processing {pdf_file}...\")\n",
    "        \n",
    "        \n",
    "        pages = convert_from_path(pdf_path, dpi=300, poppler_path = poppler_bin)\n",
    "        for i, page in enumerate(pages):\n",
    "            image_filename = f\"{os.path.splitext(pdf_file)[0]}_page{i+1}.jpg\"\n",
    "            image_path = os.path.join(image_folder, image_filename)\n",
    "            page.save(image_path, 'JPEG')\n",
    "            \n",
    "            \n",
    "            text = pytesseract.image_to_string(Image.open(image_path))\n",
    "            text_filename = f\"{os.path.splitext(image_filename)[0]}.txt\"\n",
    "            text_path = os.path.join(ocr_folder, text_filename)\n",
    "            with open(text_path, 'w', encoding='utf-8') as f:\n",
    "                f.write(text)\n",
    "            \n",
    "           \n",
    "            csv_rows.append({\n",
    "                'pdf_file': pdf_file,\n",
    "                'page_number': i+1,\n",
    "                'image_file': image_filename,\n",
    "                'ocr_text_file': text_filename,\n",
    "                'ocr_text_snippet': text[:200]  \n",
    "            })\n",
    "        \n",
    "        print(f\"Finished {pdf_file}. {len(pages)} pages processed.\\n\")"
   ]
  },
  {
   "cell_type": "code",
   "execution_count": null,
   "id": "5dea5d64-8a6a-428d-9845-3e61a3d37fd5",
   "metadata": {},
   "outputs": [],
   "source": []
  },
  {
   "cell_type": "code",
   "execution_count": null,
   "id": "aeb05f9e-68f7-436e-82c1-791b7d1d9d4c",
   "metadata": {},
   "outputs": [],
   "source": []
  }
 ],
 "metadata": {
  "kernelspec": {
   "display_name": "Python [conda env:base] *",
   "language": "python",
   "name": "conda-base-py"
  },
  "language_info": {
   "codemirror_mode": {
    "name": "ipython",
    "version": 3
   },
   "file_extension": ".py",
   "mimetype": "text/x-python",
   "name": "python",
   "nbconvert_exporter": "python",
   "pygments_lexer": "ipython3",
   "version": "3.11.7"
  }
 },
 "nbformat": 4,
 "nbformat_minor": 5
}
